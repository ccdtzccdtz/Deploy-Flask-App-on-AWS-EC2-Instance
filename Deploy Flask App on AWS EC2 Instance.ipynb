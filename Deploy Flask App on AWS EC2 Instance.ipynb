{
 "cells": [
  {
   "cell_type": "markdown",
   "metadata": {},
   "source": [
    "# deploy flask app to AWS EC2"
   ]
  },
  {
   "cell_type": "markdown",
   "metadata": {},
   "source": [
    "## Connect to Server"
   ]
  },
  {
   "cell_type": "markdown",
   "metadata": {},
   "source": [
    "#### 1. Sign up for a AWS account and Launch an EC2 instance"
   ]
  },
  {
   "cell_type": "code",
   "execution_count": null,
   "metadata": {
    "collapsed": true
   },
   "outputs": [],
   "source": [
    "1.select the AMI (Amazon Machine Image) that statisfy your need. I am using Ubuntu Server 16.04 LTS (HVM)\n",
    "2.select instance type. I am using t2.micro which is eligible for free tier. Edit configuration if you need custom setting\n",
    "3.Choose create a new key pair or use exsting key pair.If you choose to use existing key pair, make sure you have access to that .pem file.\n",
    "4.Launch! "
   ]
  },
  {
   "cell_type": "markdown",
   "metadata": {},
   "source": [
    "## Server Setup"
   ]
  },
  {
   "cell_type": "markdown",
   "metadata": {},
   "source": [
    "1.Follow AWS's instructions on how to connect to the instance\n",
    "To access your instance:\n",
    "Open an SSH client. (find out how to connect using PuTTY)\n",
    "Locate your private key file (flask.pem). The wizard automatically detects the key you used to launch the instance.\n",
    "Your key must not be publicly viewable for SSH to work. Use this command if needed:\n",
    "chmod 400 flask.pem\n",
    "Connect to your instance using its Public DNS:\n",
    "ec2-54-219-158-170.us-west-1.compute.amazonaws.com\n",
    "Example:\n",
    "ssh -i \"flask.pem\" ubuntu@ec2-54-219-158-170.us-west-1.compute.amazonaws.com"
   ]
  },
  {
   "cell_type": "markdown",
   "metadata": {},
   "source": [
    "2.install nginx"
   ]
  },
  {
   "cell_type": "markdown",
   "metadata": {},
   "source": [
    "$ sudo apt-get update\n",
    "$ sudo apt-get install nginx"
   ]
  },
  {
   "cell_type": "markdown",
   "metadata": {},
   "source": [
    "Once nginx is installed, you should be able to go to your public IP or public DNS and see the nginx welcome page.\n",
    "\n",
    "nginx-welcome-page\n",
    "\n",
    "We will remove the default page by deleting the default file.\n",
    "\n",
    "$ sudo rm /etc/nginx/sites-enabled/default\n",
    "We will create a new config file in the sites-available folder and create a symbolic link to it in the sites-enabled folder.\n",
    "\n",
    "$ sudo vim /etc/nginx/sites-available/example.com\n",
    "This is how the config file will look:\n",
    "\n",
    "server {\n",
    "\tlisten 80;\n",
    "\n",
    "\tlocation / {\n",
    "\t\tproxy_pass http://127.0.0.1:8000/;\n",
    "\t}\n",
    "}\n",
    "This config file will tell the nginx server to listen on port 80 and pass all requests with the ‘/’ prefix to the server http://127.0.0.1:8000/ We do this because Gunicorn will run your Flask app on port 8000.\n",
    "\n",
    "Now, we will need to create a symbolic link from the sites-enabled directory that points to the example.com config file we created.\n",
    "\n",
    "$ sudo ln -s /etc/nginx/sites-available/example.com /etc/nginx/sites-enabled/example.com\n",
    "We will need to restart our nginx web server in order for our changes to take into effect.\n",
    "\n",
    "$ sudo service nginx restart\n"
   ]
  },
  {
   "cell_type": "markdown",
   "metadata": {},
   "source": [
    "## Local Setup"
   ]
  },
  {
   "cell_type": "markdown",
   "metadata": {},
   "source": [
    "Virtual Environment"
   ]
  },
  {
   "cell_type": "markdown",
   "metadata": {},
   "source": [
    "I use miniconda to download and manage my libraries and virtual environments. Compares to pip, anaconda makes it much easier to install deep leanring dependencies like keras and tensorflow. Downside is your have to install miniconda on the server side as well which will take some time and space."
   ]
  },
  {
   "cell_type": "markdown",
   "metadata": {},
   "source": [
    "1. download miniconda from https://conda.io/miniconda.html"
   ]
  },
  {
   "cell_type": "markdown",
   "metadata": {},
   "source": [
    "conda create -n myenv python=3.4"
   ]
  },
  {
   "cell_type": "markdown",
   "metadata": {},
   "source": [
    "source activate myenv"
   ]
  },
  {
   "cell_type": "markdown",
   "metadata": {},
   "source": [
    "Develop your app in this environment or run your existing app in this environment. if there are dependencies need, install them for this environment. Make sure the app is fully functional in this environment."
   ]
  },
  {
   "cell_type": "code",
   "execution_count": null,
   "metadata": {
    "collapsed": true
   },
   "outputs": [],
   "source": [
    "conda env export > environment.yml"
   ]
  },
  {
   "cell_type": "markdown",
   "metadata": {},
   "source": [
    "## Setup a Git repository on EC2 (optional)"
   ]
  },
  {
   "cell_type": "markdown",
   "metadata": {},
   "source": [
    "Why ec2 git"
   ]
  },
  {
   "cell_type": "markdown",
   "metadata": {},
   "source": [
    "1. add EC2 idenity to ssh authenticicationThis prevents problems with git later, namely getting the error “Permission denied (publickey).”"
   ]
  },
  {
   "cell_type": "markdown",
   "metadata": {},
   "source": [
    "ssh-add path/to/privateEC2key.pem"
   ]
  },
  {
   "cell_type": "markdown",
   "metadata": {},
   "source": [
    "create the git repository on the EC2 instance if you are already on EC2"
   ]
  },
  {
   "cell_type": "markdown",
   "metadata": {},
   "source": [
    "mkdir the_project.git \n",
    "cd the_project.git \n",
    "git init --bare"
   ]
  },
  {
   "cell_type": "markdown",
   "metadata": {},
   "source": [
    "Back in your local machine. Set up the local repository with your flask projects and all your files."
   ]
  },
  {
   "cell_type": "markdown",
   "metadata": {},
   "source": [
    "cd the_project \n",
    "git init git add . \n",
    "git commit -m \"Initial git commit message\" \n",
    "git remote add origin username@hostname.com:the_project.git \n",
    "git config --global remote.origin.receivepack \"git receive-pack\" \n",
    "git push origin master"
   ]
  },
  {
   "cell_type": "markdown",
   "metadata": {},
   "source": [
    "Then you can use git clone the remote repository from everywhere"
   ]
  },
  {
   "cell_type": "markdown",
   "metadata": {},
   "source": [
    "git clone username@hostname.com:the_project.git"
   ]
  },
  {
   "cell_type": "markdown",
   "metadata": {},
   "source": [
    "## App Deployment"
   ]
  },
  {
   "cell_type": "markdown",
   "metadata": {},
   "source": [
    "On the EC2 server side, you could create a new local repository by git clone or git pull from the remote repository"
   ]
  },
  {
   "cell_type": "markdown",
   "metadata": {},
   "source": [
    "We have to install miniconda and create an new environment from the .yml file. This will install all the dependencies."
   ]
  },
  {
   "cell_type": "markdown",
   "metadata": {},
   "source": [
    "conda env create -f environment.yml"
   ]
  },
  {
   "cell_type": "markdown",
   "metadata": {},
   "source": [
    "Once you are in your virtual env, you should be able to run your flask app just as you run it in local machine."
   ]
  },
  {
   "cell_type": "markdown",
   "metadata": {},
   "source": [
    "In your flask app.py, please the server port to http://127.0.0.1:8000/ if otherwise."
   ]
  },
  {
   "cell_type": "markdown",
   "metadata": {},
   "source": [
    "### Notes"
   ]
  },
  {
   "cell_type": "markdown",
   "metadata": {},
   "source": [
    "In such case, the following error message appears:\n",
    "\n",
    "A line showing packet_write_wait: Connection to XXX : Broken pipe \n",
    "Solution:\n",
    "\n",
    "On the host, add those lines in the file .ssh/config\n",
    "\n",
    "Host *\n",
    "  ServerAliveInterval 30\n",
    "  ServerAliveCountMax 5\n",
    "If the file config does not exist, just create it."
   ]
  },
  {
   "cell_type": "markdown",
   "metadata": {},
   "source": [
    "# Resources"
   ]
  },
  {
   "cell_type": "markdown",
   "metadata": {},
   "source": [
    "https://chrisdtran.com/2017/deploy-flask-on-ec2/\n",
    "https://shirtdev.wordpress.com/2011/05/04/setting-up-a-git-repository-on-an-amazon-ec2-instance/\n",
    "https://conda.io/docs/user-guide/tasks/manage-environments.html\n",
    "http://thomas-cokelaer.info/blog/2017/05/packet_write_wait-connection-to-xxx-broken-pipe/"
   ]
  }
 ],
 "metadata": {
  "kernelspec": {
   "display_name": "Python 3",
   "language": "python",
   "name": "python3"
  },
  "language_info": {
   "codemirror_mode": {
    "name": "ipython",
    "version": 3
   },
   "file_extension": ".py",
   "mimetype": "text/x-python",
   "name": "python",
   "nbconvert_exporter": "python",
   "pygments_lexer": "ipython3",
   "version": "3.6.2"
  }
 },
 "nbformat": 4,
 "nbformat_minor": 2
}
