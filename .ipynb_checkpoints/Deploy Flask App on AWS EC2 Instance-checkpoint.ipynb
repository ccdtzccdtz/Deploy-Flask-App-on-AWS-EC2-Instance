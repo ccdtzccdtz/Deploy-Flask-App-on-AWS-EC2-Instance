{
 "cells": [
  {
   "cell_type": "markdown",
   "metadata": {},
   "source": [
    "# Deploy Flask App to AWS EC2"
   ]
  },
  {
   "cell_type": "markdown",
   "metadata": {},
   "source": [
    "## Connect to Server"
   ]
  },
  {
   "cell_type": "markdown",
   "metadata": {},
   "source": [
    "### 1. Sign up for a AWS account and launch an EC2 instance"
   ]
  },
  {
   "cell_type": "markdown",
   "metadata": {
    "collapsed": true
   },
   "source": [
    "1. Select the AMI (Amazon Machine Image) that satisfy your need. I am using __Ubuntu Server 16.04 LTS__ (HVM) <Br>\n",
    "2. Select instance type. I am using __t2.micro__ which is eligible for free tier. Edit configuration if you need custom setting <Br>\n",
    "3. Choose to create a new key pair or use exiting key pair.If you choose to use existing key pair, make sure you have access to that __.pem__ file. <Br>\n",
    "4. Launch! <Br>"
   ]
  },
  {
   "cell_type": "markdown",
   "metadata": {},
   "source": [
    "![alt text](https://github.com/ccdtzccdtz/Deploy-Flask-App-on-AWS-EC2-Instance/blob/master/img/Screenshot%20from%202017-11-23%2018-11-22.png?raw=true)"
   ]
  },
  {
   "cell_type": "markdown",
   "metadata": {},
   "source": [
    "## Server Setup"
   ]
  },
  {
   "cell_type": "markdown",
   "metadata": {},
   "source": [
    "### 1. Follow AWS's instructions on how to connect to the instance"
   ]
  },
  {
   "cell_type": "markdown",
   "metadata": {},
   "source": [
    "To access your instance:"
   ]
  },
  {
   "cell_type": "markdown",
   "metadata": {},
   "source": [
    "1. Open an SSH client. (find out how to connect using PuTTY) \n",
    "2. Locate your private key file (yourpermfilename.pem). The wizard automatically detects the key you used to launch the instance. \n",
    "3. Your key must not be publicly viewable for SSH to work. Use this command if needed: \n",
    "\n",
    " `chmod 400 flask.pem`<br>\n",
    "\n",
    "4. Connect to your instance using its Public DNS:\n",
    "__your-long-amazonip.compute.amazonaws.com__\n",
    "\n",
    "Example:\n",
    "\n",
    "`ssh -i \"yourpermfilename.pem\" your-long-amazonip.compute.amazonaws.com`"
   ]
  },
  {
   "cell_type": "markdown",
   "metadata": {},
   "source": [
    "### 2. Install nginx"
   ]
  },
  {
   "cell_type": "markdown",
   "metadata": {},
   "source": [
    "```\n",
    "sudo apt-get update\n",
    "sudo apt-get install nginx\n",
    "```"
   ]
  },
  {
   "cell_type": "markdown",
   "metadata": {},
   "source": [
    "Once nginx is installed, you should be able to go to your public IP or public DNS and see the nginx welcome page. Similar to the example below:\n",
    "\n",
    "\n",
    "![alt text](https://raw.githubusercontent.com/ccdtzccdtz/Deploy-Flask-App-on-AWS-EC2-Instance/master/img/localhost-8080-nginx.png)"
   ]
  },
  {
   "cell_type": "markdown",
   "metadata": {},
   "source": [
    "Remove the default page by deleting the default file.\n",
    "\n",
    "```\n",
    "sudo rm /etc/nginx/sites-enabled/default\n",
    "```\n",
    "\n",
    "Create a new config file in the sites-available folder and create a symbolic link to it in the sites-enabled folder.\n",
    "\n",
    "```\n",
    "sudo vim /etc/nginx/sites-available/example.com\n",
    "```\n",
    "\n",
    "This is how the config file will look:\n",
    "\n",
    "```\n",
    "server {\n",
    "\tlisten 80;\n",
    "\n",
    "\tlocation / {\n",
    "\t\tproxy_pass http://127.0.0.1:8000/;\n",
    "\t}\n",
    "}\n",
    "```\n",
    "\n",
    "This config file will tell the nginx server to listen on port 80 and pass all requests with the ‘/’ prefix to the server http://127.0.0.1:8000/ We do this because Gunicorn will run your Flask app on port 8000.\n",
    "\n",
    "Create a symbolic link from the sites-enabled directory that points to the example.com config file we created.\n",
    "\n",
    "```\n",
    "sudo ln -s /etc/nginx/sites-available/example.com /etc/nginx/sites-enabled/example.com\n",
    "```\n",
    "\n",
    "Reestart the nginx web server in order for our changes to take into effect.\n",
    "\n",
    "```\n",
    "sudo service nginx restart\n",
    "```\n"
   ]
  },
  {
   "cell_type": "markdown",
   "metadata": {},
   "source": [
    "## Local Setup"
   ]
  },
  {
   "cell_type": "markdown",
   "metadata": {},
   "source": [
    "### Virtual Environment"
   ]
  },
  {
   "cell_type": "markdown",
   "metadata": {},
   "source": [
    "I use miniconda to download and manage my libraries and virtual environments. Compares to pip, anaconda makes it much easier to install deep leanring dependencies like keras and tensorflow. Downside is your have to install miniconda on the server side as well which will take some time and space."
   ]
  },
  {
   "cell_type": "markdown",
   "metadata": {},
   "source": [
    "1. Download miniconda from https://conda.io/miniconda.html\n",
    "2. Create virtual environment for your specific python version\n",
    "```\n",
    "conda create -n myenv python=3.6\n",
    "```\n",
    "3. Activate this environment\n",
    "```\n",
    "source activate myenv\n",
    "```\n",
    "4. Develop your app in this environment or run your existing app in this environment. if there are dependencies need, install them for this environment. Make sure the app is fully functional in this environment.\n",
    "5. Export dependencies from this environment to a `.yml` file\n",
    "```\n",
    "conda env export > environment.yml\n",
    "```"
   ]
  },
  {
   "cell_type": "markdown",
   "metadata": {},
   "source": [
    "## Setup a Git Repository on EC2 (Optional)"
   ]
  },
  {
   "cell_type": "markdown",
   "metadata": {},
   "source": [
    "Here I decide to create a remote repository on EC2. This will keep the repository private and make the file transfer from local workplace to EC2 very smooth. "
   ]
  },
  {
   "cell_type": "markdown",
   "metadata": {},
   "source": [
    "1. add EC2 idenity to ssh authenticicationThis prevents problems with git later, namely getting the error “Permission denied (publickey).”\n",
    "```\n",
    "ssh-add path/to/privateEC2key.pem\n",
    "```\n",
    "2. create the git repository on the EC2 instance if you are already on EC2\n",
    "```\n",
    "mkdir the_project.git cd the_project.git git init --bare\n",
    "```\n",
    "3. Back in your local machine. Set up the local repository with your flask projects and all your files.\n",
    "```\n",
    "cd the_project \n",
    "git init \n",
    "git add . \n",
    "git commit -m \"Initial git commit message\" \n",
    "git remote add origin username@hostname.com:the_project.git \n",
    "git config --global remote.origin.receivepack \"git receive-pack\" \n",
    "git push origin master\n",
    "```\n",
    "4. Then you can use git clone the remote repository from everywhere\n",
    "```\n",
    "git clone username@hostname.com:the_project.git\n",
    "```"
   ]
  },
  {
   "cell_type": "markdown",
   "metadata": {},
   "source": [
    "## App Deployment"
   ]
  },
  {
   "cell_type": "markdown",
   "metadata": {},
   "source": [
    "On the EC2 server side, you could create a new local repository by git clone or git pull from the remote repository"
   ]
  },
  {
   "cell_type": "markdown",
   "metadata": {},
   "source": [
    "We have to install miniconda and create an new environment from the `.yml` file. This will install all the dependencies.\n",
    "```\n",
    "conda env create -f environment.yml\n",
    "```\n",
    "Once you are in your virtual env, you should be able to run your flask app just as you run it in local machine.\n",
    "In your flask app.py, please the server port to http://127.0.0.1:8000/ if otherwise."
   ]
  },
  {
   "cell_type": "markdown",
   "metadata": {},
   "source": [
    "### Notes"
   ]
  },
  {
   "cell_type": "markdown",
   "metadata": {},
   "source": [
    "After running for a while, if no activity has been detected between your local and the server, your connection might be shut down. In such case, the following error message appears:\n",
    "```\n",
    "A line showing packet_write_wait: Connection to XXX : Broken pipe \n",
    "\n",
    "```\n",
    "Solution:\n",
    "\n",
    "On the host, add those lines in the file `.ssh/config`\n",
    "\n",
    "```\n",
    "Host *\n",
    "  ServerAliveInterval 30\n",
    "  ServerAliveCountMax 5\n",
    "```  \n",
    "If the file config does not exist, just create it."
   ]
  },
  {
   "cell_type": "markdown",
   "metadata": {},
   "source": [
    "# Resources"
   ]
  },
  {
   "cell_type": "markdown",
   "metadata": {},
   "source": [
    "[How to Deploy a Flask App on an AWS EC2 Instance](https://chrisdtran.com/2017/deploy-flask-on-ec2/) <br>\n",
    "[Setting up a Git repository on an Amazon EC2 instance](https://shirtdev.wordpress.com/2011/05/04/setting-up-a-git-repository-on-an-amazon-ec2-instance/) <br> \n",
    "[Managing environments](https://conda.io/docs/user-guide/tasks/manage-environments.html) <br>\n",
    "[packet_write_wait: Connection to XXX : Broken pipe](http://thomas-cokelaer.info/blog/2017/05/packet_write_wait-connection-to-xxx-broken-pipe/) <br>"
   ]
  }
 ],
 "metadata": {
  "kernelspec": {
   "display_name": "Python 3",
   "language": "python",
   "name": "python3"
  },
  "language_info": {
   "codemirror_mode": {
    "name": "ipython",
    "version": 3
   },
   "file_extension": ".py",
   "mimetype": "text/x-python",
   "name": "python",
   "nbconvert_exporter": "python",
   "pygments_lexer": "ipython3",
   "version": "3.6.1"
  }
 },
 "nbformat": 4,
 "nbformat_minor": 2
}
